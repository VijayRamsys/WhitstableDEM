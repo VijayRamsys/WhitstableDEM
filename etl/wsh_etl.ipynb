{
 "cells": [
  {
   "cell_type": "code",
   "execution_count": 4,
   "metadata": {
    "collapsed": false
   },
   "outputs": [
    {
     "data": {
      "text/plain": [
       "260364"
      ]
     },
     "execution_count": 4,
     "metadata": {},
     "output_type": "execute_result"
    }
   ],
   "source": [
    "from __future__ import print_function\n",
    "\n",
    "from pyspark.sql import SparkSession\n",
    "\n",
    "from pyspark.sql import Row\n",
    "\n",
    "from pyspark.sql.types import *\n",
    "\n",
    "incidentDAT = sc.textFile(\"/home/ramsys/Dev/whitstable/data/incident.txt\")\n",
    "incidentDAT.count()\n"
   ]
  },
  {
   "cell_type": "code",
   "execution_count": 5,
   "metadata": {
    "collapsed": false
   },
   "outputs": [
    {
     "name": "stdout",
     "output_type": "stream",
     "text": [
      "root\n",
      " |-- gross_ton: string (nullable = true)\n",
      " |-- vlength: string (nullable = true)\n",
      " |-- vdepth: string (nullable = true)\n",
      " |-- vessel_class: string (nullable = true)\n",
      " |-- vessel_age: string (nullable = true)\n",
      " |-- route_type: string (nullable = true)\n",
      " |-- Accident: string (nullable = true)\n",
      "\n",
      "+---------+-------+------+------------+----------+--------------------+--------+\n",
      "|gross_ton|vlength|vdepth|vessel_class|vessel_age|          route_type|Accident|\n",
      "+---------+-------+------+------------+----------+--------------------+--------+\n",
      "|    159.0|   89.3|  12.0|Recreational|      70.0|         UNSPECIFIED|     Yes|\n",
      "|      0.0|  250.0|  10.5|       Barge|      65.0|         UNSPECIFIED|     Yes|\n",
      "|   9876.0|  459.8|  36.2|       Barge|      22.0|              Oceans|     Yes|\n",
      "|   1830.0|  284.0|  11.2|       Barge|      53.0|\"Lakes, Bays, and...|     Yes|\n",
      "|   1983.0|  209.5|  12.5|    Offshore|      35.0|         UNSPECIFIED|     Yes|\n",
      "+---------+-------+------+------------+----------+--------------------+--------+\n",
      "only showing top 5 rows\n",
      "\n"
     ]
    }
   ],
   "source": [
    "incidentRDD = incidentDAT.map(lambda x: x.split(\"\\t\")).map(lambda x: Row(x[0], x[1], x[2], x[3], x[4], x[5], x[6] ))\n",
    "incidentDFrame = incidentRDD.toDF([\"gross_ton\",\"vlength\",\"vdepth\",\"vessel_class\",\"vessel_age\",\"route_type\",\"Accident\"])\n",
    "incidentDFrame.printSchema()\n",
    "incidentDFrame.show(5)"
   ]
  },
  {
   "cell_type": "code",
   "execution_count": 7,
   "metadata": {
    "collapsed": false
   },
   "outputs": [
    {
     "data": {
      "text/plain": [
       "8848"
      ]
     },
     "execution_count": 7,
     "metadata": {},
     "output_type": "execute_result"
    }
   ],
   "source": [
    "incidentDFrame.createOrReplaceTempView(\"vessel\")\n",
    "\n",
    "#all Barges \n",
    "BargeNos = spark.sql(\"SELECT vessel_class FROM vessel WHERE vessel_class like 'Barge%'\").count()\n",
    "BargeNos"
   ]
  },
  {
   "cell_type": "code",
   "execution_count": 8,
   "metadata": {
    "collapsed": false
   },
   "outputs": [
    {
     "name": "stdout",
     "output_type": "stream",
     "text": [
      "+--------------------+------+\n",
      "|         VesselClass| Total|\n",
      "+--------------------+------+\n",
      "|               Barge|  8848|\n",
      "|            Offshore|  2186|\n",
      "|      Fishing Vessel| 44944|\n",
      "|       Towing Vessel|  9678|\n",
      "|General Dry Cargo...| 15316|\n",
      "|      Passenger Ship| 20887|\n",
      "|        Bulk Carrier|  7627|\n",
      "|Miscellaneous Vessel|  7739|\n",
      "|           Tank Ship|  8348|\n",
      "|         UNSPECIFIED|  6255|\n",
      "|       Research Ship|   978|\n",
      "|             Warship|   344|\n",
      "|    Ro-Ro Cargo Ship|  1074|\n",
      "|         School Ship|   186|\n",
      "|Refrigerated Carg...|   568|\n",
      "+--------------------+------+\n",
      "\n"
     ]
    }
   ],
   "source": [
    "vesselMaster = Row('VesselClass', 'Total')\n",
    "vesselMasterList = [\"Barge, 8848\",\"Offshore, 2186\",\"Fishing Vessel, 44944\",\"Towing Vessel, 9678\",\"General Dry Cargo Ship, 15316\",\"Passenger Ship, 20887\",\"Bulk Carrier, 7627\",\"Miscellaneous Vessel, 7739\",\"Tank Ship, 8348\",\"UNSPECIFIED, 6255\",\"Research Ship, 978\",\"Warship, 344\",\"Ro-Ro Cargo Ship, 1074\",\"School Ship, 186\",\"Refrigerated Cargo Ship, 568\"] \n",
    "vesselMasterDF = sc.parallelize(vesselMasterList).map(lambda x: x.split(\",\")).map(lambda r: vesselMaster(*r)).toDF()\n",
    "vesselMasterDF.show()"
   ]
  },
  {
   "cell_type": "code",
   "execution_count": null,
   "metadata": {
    "collapsed": true
   },
   "outputs": [],
   "source": []
  }
 ],
 "metadata": {
  "anaconda-cloud": {},
  "kernelspec": {
   "display_name": "Python [conda env:py27]",
   "language": "python",
   "name": "conda-env-py27-py"
  },
  "language_info": {
   "codemirror_mode": {
    "name": "ipython",
    "version": 2
   },
   "file_extension": ".py",
   "mimetype": "text/x-python",
   "name": "python",
   "nbconvert_exporter": "python",
   "pygments_lexer": "ipython2",
   "version": "2.7.12"
  }
 },
 "nbformat": 4,
 "nbformat_minor": 1
}
